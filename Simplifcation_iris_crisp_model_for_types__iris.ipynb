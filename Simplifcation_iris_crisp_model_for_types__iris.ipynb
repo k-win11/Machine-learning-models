{
 "cells": [
  {
   "cell_type": "code",
   "execution_count": null,
   "id": "bbdd0bea",
   "metadata": {},
   "outputs": [
    {
     "name": "stderr",
     "output_type": "stream",
     "text": [
      "C:\\Users\\khara\\anaconda3\\lib\\site-packages\\sklearn\\neighbors\\_classification.py:228: FutureWarning: Unlike other reduction functions (e.g. `skew`, `kurtosis`), the default behavior of `mode` typically preserves the axis it acts along. In SciPy 1.11.0, this behavior will change: the default value of `keepdims` will become False, the `axis` over which the statistic is taken will be eliminated, and the value None will no longer be accepted. Set `keepdims` to True or False to avoid this warning.\n",
      "  mode, _ = stats.mode(_y[neigh_ind, k], axis=1)\n",
      "C:\\Users\\khara\\anaconda3\\lib\\site-packages\\sklearn\\neighbors\\_classification.py:228: FutureWarning: Unlike other reduction functions (e.g. `skew`, `kurtosis`), the default behavior of `mode` typically preserves the axis it acts along. In SciPy 1.11.0, this behavior will change: the default value of `keepdims` will become False, the `axis` over which the statistic is taken will be eliminated, and the value None will no longer be accepted. Set `keepdims` to True or False to avoid this warning.\n",
      "  mode, _ = stats.mode(_y[neigh_ind, k], axis=1)\n",
      "C:\\Users\\khara\\anaconda3\\lib\\site-packages\\sklearn\\neighbors\\_classification.py:228: FutureWarning: Unlike other reduction functions (e.g. `skew`, `kurtosis`), the default behavior of `mode` typically preserves the axis it acts along. In SciPy 1.11.0, this behavior will change: the default value of `keepdims` will become False, the `axis` over which the statistic is taken will be eliminated, and the value None will no longer be accepted. Set `keepdims` to True or False to avoid this warning.\n",
      "  mode, _ = stats.mode(_y[neigh_ind, k], axis=1)\n"
     ]
    },
    {
     "name": "stdout",
     "output_type": "stream",
     "text": [
      "Feature: ['sepal length (cm)', 'sepal width (cm)', 'petal length (cm)', 'petal width (cm)']\n",
      "Target: ['setosa' 'versicolor' 'virginica']\n",
      "0.9642857142857143\n",
      "0.9736842105263158\n"
     ]
    }
   ],
   "source": [
    "while(True):\n",
    "    from sklearn.datasets import load_iris\n",
    "    iris=load_iris()\n",
    "    iris.feature_names\n",
    "    iris.target_names\n",
    "    print('Feature:',iris.feature_names)\n",
    "    print('Target:',iris.target_names)\n",
    "    X=iris.data\n",
    "    y=iris.target\n",
    "\n",
    "    from sklearn.neighbors import KNeighborsClassifier\n",
    "\n",
    "    from sklearn.model_selection import  train_test_split\n",
    "    model=KNeighborsClassifier()\n",
    "    model.fit(X,y)\n",
    "    model.predict([[6.2,3,2.1,5]])\n",
    "    X_train,X_test,y_train,y_test=train_test_split(X,y,random_state=4) \n",
    "    model=KNeighborsClassifier()\n",
    "    model.fit(X_train,y_train)\n",
    "    model.fit(X_test,y_test)\n",
    "    print(model.score(X_train,y_train))\n",
    "    print(model.score(X_test,y_test))\n",
    "\n",
    "    sl=float(input('enter sepal length:'))\n",
    "    sw=float(input('enter sepal width:'))\n",
    "    pl=float(input('enter pedal length:'))\n",
    "    pw=float(input('enter pedal width:'))\n",
    "\n",
    "\n",
    "    pre=model.predict([[sl,sw,pl,pw]])\n",
    "\n",
    "    if  (pre[0]==0):\n",
    "\n",
    "         print('Setosa')\n",
    "    elif (pre[0]==1):\n",
    "        print('Versicolour')\n",
    "    else:\n",
    "        print('Virginica')"
   ]
  },
  {
   "cell_type": "code",
   "execution_count": null,
   "id": "3fa879c6",
   "metadata": {},
   "outputs": [],
   "source": []
  }
 ],
 "metadata": {
  "kernelspec": {
   "display_name": "Python 3 (ipykernel)",
   "language": "python",
   "name": "python3"
  },
  "language_info": {
   "codemirror_mode": {
    "name": "ipython",
    "version": 3
   },
   "file_extension": ".py",
   "mimetype": "text/x-python",
   "name": "python",
   "nbconvert_exporter": "python",
   "pygments_lexer": "ipython3",
   "version": "3.9.13"
  }
 },
 "nbformat": 4,
 "nbformat_minor": 5
}
